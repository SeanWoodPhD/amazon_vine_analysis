{
 "cells": [
  {
   "cell_type": "code",
   "execution_count": 1,
   "id": "8bee4c90",
   "metadata": {},
   "outputs": [],
   "source": [
    "# Import necessary libraries\n",
    "import pandas as pd"
   ]
  },
  {
   "cell_type": "code",
   "execution_count": 4,
   "id": "7a672e45",
   "metadata": {},
   "outputs": [
    {
     "data": {
      "text/html": [
       "<div>\n",
       "<style scoped>\n",
       "    .dataframe tbody tr th:only-of-type {\n",
       "        vertical-align: middle;\n",
       "    }\n",
       "\n",
       "    .dataframe tbody tr th {\n",
       "        vertical-align: top;\n",
       "    }\n",
       "\n",
       "    .dataframe thead th {\n",
       "        text-align: right;\n",
       "    }\n",
       "</style>\n",
       "<table border=\"1\" class=\"dataframe\">\n",
       "  <thead>\n",
       "    <tr style=\"text-align: right;\">\n",
       "      <th></th>\n",
       "      <th>review_id</th>\n",
       "      <th>star_rating</th>\n",
       "      <th>helpful_votes</th>\n",
       "      <th>total_votes</th>\n",
       "      <th>vine</th>\n",
       "      <th>verified_purchase</th>\n",
       "    </tr>\n",
       "  </thead>\n",
       "  <tbody>\n",
       "    <tr>\n",
       "      <th>0</th>\n",
       "      <td>R2MTG1GCZLR2DK</td>\n",
       "      <td>5.0</td>\n",
       "      <td>0.0</td>\n",
       "      <td>0.0</td>\n",
       "      <td>N</td>\n",
       "      <td>Y</td>\n",
       "    </tr>\n",
       "    <tr>\n",
       "      <th>1</th>\n",
       "      <td>R2HBOEM8LE9928</td>\n",
       "      <td>5.0</td>\n",
       "      <td>0.0</td>\n",
       "      <td>0.0</td>\n",
       "      <td>N</td>\n",
       "      <td>Y</td>\n",
       "    </tr>\n",
       "    <tr>\n",
       "      <th>2</th>\n",
       "      <td>R1P4RW1R9FDPEE</td>\n",
       "      <td>5.0</td>\n",
       "      <td>1.0</td>\n",
       "      <td>1.0</td>\n",
       "      <td>N</td>\n",
       "      <td>Y</td>\n",
       "    </tr>\n",
       "    <tr>\n",
       "      <th>3</th>\n",
       "      <td>R1EBPM82ENI67M</td>\n",
       "      <td>1.0</td>\n",
       "      <td>0.0</td>\n",
       "      <td>0.0</td>\n",
       "      <td>N</td>\n",
       "      <td>Y</td>\n",
       "    </tr>\n",
       "    <tr>\n",
       "      <th>4</th>\n",
       "      <td>R372S58V6D11AT</td>\n",
       "      <td>5.0</td>\n",
       "      <td>1.0</td>\n",
       "      <td>1.0</td>\n",
       "      <td>N</td>\n",
       "      <td>Y</td>\n",
       "    </tr>\n",
       "  </tbody>\n",
       "</table>\n",
       "</div>"
      ],
      "text/plain": [
       "        review_id  star_rating  helpful_votes  total_votes vine  \\\n",
       "0  R2MTG1GCZLR2DK          5.0            0.0          0.0    N   \n",
       "1  R2HBOEM8LE9928          5.0            0.0          0.0    N   \n",
       "2  R1P4RW1R9FDPEE          5.0            1.0          1.0    N   \n",
       "3  R1EBPM82ENI67M          1.0            0.0          0.0    N   \n",
       "4  R372S58V6D11AT          5.0            1.0          1.0    N   \n",
       "\n",
       "  verified_purchase  \n",
       "0                 Y  \n",
       "1                 Y  \n",
       "2                 Y  \n",
       "3                 Y  \n",
       "4                 Y  "
      ]
     },
     "execution_count": 4,
     "metadata": {},
     "output_type": "execute_result"
    }
   ],
   "source": [
    "# Read in .csv created in Deliverable 1 with appropriate column names\n",
    "df = pd.read_csv('data/vine_table.csv', names=[\"review_id\",\"star_rating\",\"helpful_votes\",\"total_votes\",\"vine\",\"verified_purchase\"])\n",
    "df.head()"
   ]
  },
  {
   "cell_type": "code",
   "execution_count": 5,
   "id": "252787f7",
   "metadata": {},
   "outputs": [
    {
     "data": {
      "text/plain": [
       "review_id            3093869\n",
       "star_rating          3093861\n",
       "helpful_votes        3093861\n",
       "total_votes          3093861\n",
       "vine                 3093861\n",
       "verified_purchase    3093861\n",
       "dtype: int64"
      ]
     },
     "execution_count": 5,
     "metadata": {},
     "output_type": "execute_result"
    }
   ],
   "source": [
    "# See how many entries there are initially\n",
    "df.count()"
   ]
  },
  {
   "cell_type": "code",
   "execution_count": 10,
   "id": "58b8c049",
   "metadata": {},
   "outputs": [
    {
     "data": {
      "text/html": [
       "<div>\n",
       "<style scoped>\n",
       "    .dataframe tbody tr th:only-of-type {\n",
       "        vertical-align: middle;\n",
       "    }\n",
       "\n",
       "    .dataframe tbody tr th {\n",
       "        vertical-align: top;\n",
       "    }\n",
       "\n",
       "    .dataframe thead th {\n",
       "        text-align: right;\n",
       "    }\n",
       "</style>\n",
       "<table border=\"1\" class=\"dataframe\">\n",
       "  <thead>\n",
       "    <tr style=\"text-align: right;\">\n",
       "      <th></th>\n",
       "      <th>review_id</th>\n",
       "      <th>star_rating</th>\n",
       "      <th>helpful_votes</th>\n",
       "      <th>total_votes</th>\n",
       "      <th>vine</th>\n",
       "      <th>verified_purchase</th>\n",
       "    </tr>\n",
       "  </thead>\n",
       "  <tbody>\n",
       "    <tr>\n",
       "      <th>41</th>\n",
       "      <td>R1FBO737KD9F2N</td>\n",
       "      <td>5.0</td>\n",
       "      <td>19.0</td>\n",
       "      <td>23.0</td>\n",
       "      <td>N</td>\n",
       "      <td>Y</td>\n",
       "    </tr>\n",
       "    <tr>\n",
       "      <th>145</th>\n",
       "      <td>R227GSNWI6BSZV</td>\n",
       "      <td>1.0</td>\n",
       "      <td>20.0</td>\n",
       "      <td>20.0</td>\n",
       "      <td>N</td>\n",
       "      <td>Y</td>\n",
       "    </tr>\n",
       "    <tr>\n",
       "      <th>304</th>\n",
       "      <td>R3SJTYZBYBG4EE</td>\n",
       "      <td>4.0</td>\n",
       "      <td>99.0</td>\n",
       "      <td>99.0</td>\n",
       "      <td>N</td>\n",
       "      <td>Y</td>\n",
       "    </tr>\n",
       "    <tr>\n",
       "      <th>419</th>\n",
       "      <td>R248FG65D76D5Y</td>\n",
       "      <td>1.0</td>\n",
       "      <td>42.0</td>\n",
       "      <td>53.0</td>\n",
       "      <td>N</td>\n",
       "      <td>Y</td>\n",
       "    </tr>\n",
       "    <tr>\n",
       "      <th>500</th>\n",
       "      <td>R3B6BXFKGW52SG</td>\n",
       "      <td>1.0</td>\n",
       "      <td>32.0</td>\n",
       "      <td>32.0</td>\n",
       "      <td>N</td>\n",
       "      <td>Y</td>\n",
       "    </tr>\n",
       "  </tbody>\n",
       "</table>\n",
       "</div>"
      ],
      "text/plain": [
       "          review_id  star_rating  helpful_votes  total_votes vine  \\\n",
       "41   R1FBO737KD9F2N          5.0           19.0         23.0    N   \n",
       "145  R227GSNWI6BSZV          1.0           20.0         20.0    N   \n",
       "304  R3SJTYZBYBG4EE          4.0           99.0         99.0    N   \n",
       "419  R248FG65D76D5Y          1.0           42.0         53.0    N   \n",
       "500  R3B6BXFKGW52SG          1.0           32.0         32.0    N   \n",
       "\n",
       "    verified_purchase  \n",
       "41                  Y  \n",
       "145                 Y  \n",
       "304                 Y  \n",
       "419                 Y  \n",
       "500                 Y  "
      ]
     },
     "execution_count": 10,
     "metadata": {},
     "output_type": "execute_result"
    }
   ],
   "source": [
    "# Filter the dataframe to retrieve rows where the total votes are greater than or equal to 20\n",
    "total_votes_gt_20_df = df.loc[df[\"total_votes\"]>=20]\n",
    "total_votes_gt_20_df.head()"
   ]
  },
  {
   "cell_type": "code",
   "execution_count": 11,
   "id": "b3602093",
   "metadata": {},
   "outputs": [
    {
     "data": {
      "text/plain": [
       "review_id            58554\n",
       "star_rating          58554\n",
       "helpful_votes        58554\n",
       "total_votes          58554\n",
       "vine                 58554\n",
       "verified_purchase    58554\n",
       "dtype: int64"
      ]
     },
     "execution_count": 11,
     "metadata": {},
     "output_type": "execute_result"
    }
   ],
   "source": [
    "# See how many entries there are after filtering\n",
    "total_votes_gt_20_df.count()"
   ]
  },
  {
   "cell_type": "code",
   "execution_count": 14,
   "id": "330964c0",
   "metadata": {},
   "outputs": [
    {
     "data": {
      "text/html": [
       "<div>\n",
       "<style scoped>\n",
       "    .dataframe tbody tr th:only-of-type {\n",
       "        vertical-align: middle;\n",
       "    }\n",
       "\n",
       "    .dataframe tbody tr th {\n",
       "        vertical-align: top;\n",
       "    }\n",
       "\n",
       "    .dataframe thead th {\n",
       "        text-align: right;\n",
       "    }\n",
       "</style>\n",
       "<table border=\"1\" class=\"dataframe\">\n",
       "  <thead>\n",
       "    <tr style=\"text-align: right;\">\n",
       "      <th></th>\n",
       "      <th>review_id</th>\n",
       "      <th>star_rating</th>\n",
       "      <th>helpful_votes</th>\n",
       "      <th>total_votes</th>\n",
       "      <th>vine</th>\n",
       "      <th>verified_purchase</th>\n",
       "    </tr>\n",
       "  </thead>\n",
       "  <tbody>\n",
       "    <tr>\n",
       "      <th>41</th>\n",
       "      <td>R1FBO737KD9F2N</td>\n",
       "      <td>5.0</td>\n",
       "      <td>19.0</td>\n",
       "      <td>23.0</td>\n",
       "      <td>N</td>\n",
       "      <td>Y</td>\n",
       "    </tr>\n",
       "    <tr>\n",
       "      <th>145</th>\n",
       "      <td>R227GSNWI6BSZV</td>\n",
       "      <td>1.0</td>\n",
       "      <td>20.0</td>\n",
       "      <td>20.0</td>\n",
       "      <td>N</td>\n",
       "      <td>Y</td>\n",
       "    </tr>\n",
       "    <tr>\n",
       "      <th>304</th>\n",
       "      <td>R3SJTYZBYBG4EE</td>\n",
       "      <td>4.0</td>\n",
       "      <td>99.0</td>\n",
       "      <td>99.0</td>\n",
       "      <td>N</td>\n",
       "      <td>Y</td>\n",
       "    </tr>\n",
       "    <tr>\n",
       "      <th>419</th>\n",
       "      <td>R248FG65D76D5Y</td>\n",
       "      <td>1.0</td>\n",
       "      <td>42.0</td>\n",
       "      <td>53.0</td>\n",
       "      <td>N</td>\n",
       "      <td>Y</td>\n",
       "    </tr>\n",
       "    <tr>\n",
       "      <th>500</th>\n",
       "      <td>R3B6BXFKGW52SG</td>\n",
       "      <td>1.0</td>\n",
       "      <td>32.0</td>\n",
       "      <td>32.0</td>\n",
       "      <td>N</td>\n",
       "      <td>Y</td>\n",
       "    </tr>\n",
       "  </tbody>\n",
       "</table>\n",
       "</div>"
      ],
      "text/plain": [
       "          review_id  star_rating  helpful_votes  total_votes vine  \\\n",
       "41   R1FBO737KD9F2N          5.0           19.0         23.0    N   \n",
       "145  R227GSNWI6BSZV          1.0           20.0         20.0    N   \n",
       "304  R3SJTYZBYBG4EE          4.0           99.0         99.0    N   \n",
       "419  R248FG65D76D5Y          1.0           42.0         53.0    N   \n",
       "500  R3B6BXFKGW52SG          1.0           32.0         32.0    N   \n",
       "\n",
       "    verified_purchase  \n",
       "41                  Y  \n",
       "145                 Y  \n",
       "304                 Y  \n",
       "419                 Y  \n",
       "500                 Y  "
      ]
     },
     "execution_count": 14,
     "metadata": {},
     "output_type": "execute_result"
    }
   ],
   "source": [
    "# Filter the dataframe to retrieve rows where the helpful_votes as a percentage\n",
    "# of total_votes is greater than or equal to 50%\n",
    "helpful_votes_gt_50_df = total_votes_gt_20_df.loc[(total_votes_gt_20_df[\"helpful_votes\"]\\\n",
    "                                                   /total_votes_gt_20_df[\"total_votes\"])>=0.5]\n",
    "helpful_votes_gt_50_df.head()"
   ]
  },
  {
   "cell_type": "code",
   "execution_count": 15,
   "id": "c5480686",
   "metadata": {},
   "outputs": [
    {
     "data": {
      "text/plain": [
       "review_id            50753\n",
       "star_rating          50753\n",
       "helpful_votes        50753\n",
       "total_votes          50753\n",
       "vine                 50753\n",
       "verified_purchase    50753\n",
       "dtype: int64"
      ]
     },
     "execution_count": 15,
     "metadata": {},
     "output_type": "execute_result"
    }
   ],
   "source": [
    "# See how many entries there are after filtering\n",
    "helpful_votes_gt_50_df.count()"
   ]
  },
  {
   "cell_type": "code",
   "execution_count": 17,
   "id": "42fcaf5e",
   "metadata": {},
   "outputs": [
    {
     "data": {
      "text/html": [
       "<div>\n",
       "<style scoped>\n",
       "    .dataframe tbody tr th:only-of-type {\n",
       "        vertical-align: middle;\n",
       "    }\n",
       "\n",
       "    .dataframe tbody tr th {\n",
       "        vertical-align: top;\n",
       "    }\n",
       "\n",
       "    .dataframe thead th {\n",
       "        text-align: right;\n",
       "    }\n",
       "</style>\n",
       "<table border=\"1\" class=\"dataframe\">\n",
       "  <thead>\n",
       "    <tr style=\"text-align: right;\">\n",
       "      <th></th>\n",
       "      <th>review_id</th>\n",
       "      <th>star_rating</th>\n",
       "      <th>helpful_votes</th>\n",
       "      <th>total_votes</th>\n",
       "      <th>vine</th>\n",
       "      <th>verified_purchase</th>\n",
       "    </tr>\n",
       "  </thead>\n",
       "  <tbody>\n",
       "    <tr>\n",
       "      <th>1932</th>\n",
       "      <td>R184FOUNZZ7KO8</td>\n",
       "      <td>5.0</td>\n",
       "      <td>15.0</td>\n",
       "      <td>20.0</td>\n",
       "      <td>Y</td>\n",
       "      <td>N</td>\n",
       "    </tr>\n",
       "    <tr>\n",
       "      <th>4661</th>\n",
       "      <td>R82QWN2X2OCHB</td>\n",
       "      <td>5.0</td>\n",
       "      <td>176.0</td>\n",
       "      <td>208.0</td>\n",
       "      <td>Y</td>\n",
       "      <td>N</td>\n",
       "    </tr>\n",
       "    <tr>\n",
       "      <th>11745</th>\n",
       "      <td>R1UYHBYE6790BU</td>\n",
       "      <td>5.0</td>\n",
       "      <td>44.0</td>\n",
       "      <td>53.0</td>\n",
       "      <td>Y</td>\n",
       "      <td>N</td>\n",
       "    </tr>\n",
       "    <tr>\n",
       "      <th>17013</th>\n",
       "      <td>R2J3YLX1L4EH2B</td>\n",
       "      <td>5.0</td>\n",
       "      <td>299.0</td>\n",
       "      <td>321.0</td>\n",
       "      <td>Y</td>\n",
       "      <td>N</td>\n",
       "    </tr>\n",
       "    <tr>\n",
       "      <th>28097</th>\n",
       "      <td>R3QDI539WTXKE2</td>\n",
       "      <td>5.0</td>\n",
       "      <td>26.0</td>\n",
       "      <td>32.0</td>\n",
       "      <td>Y</td>\n",
       "      <td>N</td>\n",
       "    </tr>\n",
       "  </tbody>\n",
       "</table>\n",
       "</div>"
      ],
      "text/plain": [
       "            review_id  star_rating  helpful_votes  total_votes vine  \\\n",
       "1932   R184FOUNZZ7KO8          5.0           15.0         20.0    Y   \n",
       "4661    R82QWN2X2OCHB          5.0          176.0        208.0    Y   \n",
       "11745  R1UYHBYE6790BU          5.0           44.0         53.0    Y   \n",
       "17013  R2J3YLX1L4EH2B          5.0          299.0        321.0    Y   \n",
       "28097  R3QDI539WTXKE2          5.0           26.0         32.0    Y   \n",
       "\n",
       "      verified_purchase  \n",
       "1932                  N  \n",
       "4661                  N  \n",
       "11745                 N  \n",
       "17013                 N  \n",
       "28097                 N  "
      ]
     },
     "execution_count": 17,
     "metadata": {},
     "output_type": "execute_result"
    }
   ],
   "source": [
    "# Filter the dataframe to retrieve rows that are part of the Vine program\n",
    "vines_df = helpful_votes_gt_50_df.loc[helpful_votes_gt_50_df[\"vine\"] == \"Y\"]\n",
    "vines_df.head()"
   ]
  },
  {
   "cell_type": "code",
   "execution_count": 18,
   "id": "b614544d",
   "metadata": {},
   "outputs": [
    {
     "data": {
      "text/plain": [
       "review_id            1080\n",
       "star_rating          1080\n",
       "helpful_votes        1080\n",
       "total_votes          1080\n",
       "vine                 1080\n",
       "verified_purchase    1080\n",
       "dtype: int64"
      ]
     },
     "execution_count": 18,
     "metadata": {},
     "output_type": "execute_result"
    }
   ],
   "source": [
    "# See how many entries there are after filtering\n",
    "vines_df.count()"
   ]
  },
  {
   "cell_type": "code",
   "execution_count": 19,
   "id": "c341ff8a",
   "metadata": {},
   "outputs": [
    {
     "data": {
      "text/html": [
       "<div>\n",
       "<style scoped>\n",
       "    .dataframe tbody tr th:only-of-type {\n",
       "        vertical-align: middle;\n",
       "    }\n",
       "\n",
       "    .dataframe tbody tr th {\n",
       "        vertical-align: top;\n",
       "    }\n",
       "\n",
       "    .dataframe thead th {\n",
       "        text-align: right;\n",
       "    }\n",
       "</style>\n",
       "<table border=\"1\" class=\"dataframe\">\n",
       "  <thead>\n",
       "    <tr style=\"text-align: right;\">\n",
       "      <th></th>\n",
       "      <th>review_id</th>\n",
       "      <th>star_rating</th>\n",
       "      <th>helpful_votes</th>\n",
       "      <th>total_votes</th>\n",
       "      <th>vine</th>\n",
       "      <th>verified_purchase</th>\n",
       "    </tr>\n",
       "  </thead>\n",
       "  <tbody>\n",
       "    <tr>\n",
       "      <th>41</th>\n",
       "      <td>R1FBO737KD9F2N</td>\n",
       "      <td>5.0</td>\n",
       "      <td>19.0</td>\n",
       "      <td>23.0</td>\n",
       "      <td>N</td>\n",
       "      <td>Y</td>\n",
       "    </tr>\n",
       "    <tr>\n",
       "      <th>145</th>\n",
       "      <td>R227GSNWI6BSZV</td>\n",
       "      <td>1.0</td>\n",
       "      <td>20.0</td>\n",
       "      <td>20.0</td>\n",
       "      <td>N</td>\n",
       "      <td>Y</td>\n",
       "    </tr>\n",
       "    <tr>\n",
       "      <th>304</th>\n",
       "      <td>R3SJTYZBYBG4EE</td>\n",
       "      <td>4.0</td>\n",
       "      <td>99.0</td>\n",
       "      <td>99.0</td>\n",
       "      <td>N</td>\n",
       "      <td>Y</td>\n",
       "    </tr>\n",
       "    <tr>\n",
       "      <th>419</th>\n",
       "      <td>R248FG65D76D5Y</td>\n",
       "      <td>1.0</td>\n",
       "      <td>42.0</td>\n",
       "      <td>53.0</td>\n",
       "      <td>N</td>\n",
       "      <td>Y</td>\n",
       "    </tr>\n",
       "    <tr>\n",
       "      <th>500</th>\n",
       "      <td>R3B6BXFKGW52SG</td>\n",
       "      <td>1.0</td>\n",
       "      <td>32.0</td>\n",
       "      <td>32.0</td>\n",
       "      <td>N</td>\n",
       "      <td>Y</td>\n",
       "    </tr>\n",
       "  </tbody>\n",
       "</table>\n",
       "</div>"
      ],
      "text/plain": [
       "          review_id  star_rating  helpful_votes  total_votes vine  \\\n",
       "41   R1FBO737KD9F2N          5.0           19.0         23.0    N   \n",
       "145  R227GSNWI6BSZV          1.0           20.0         20.0    N   \n",
       "304  R3SJTYZBYBG4EE          4.0           99.0         99.0    N   \n",
       "419  R248FG65D76D5Y          1.0           42.0         53.0    N   \n",
       "500  R3B6BXFKGW52SG          1.0           32.0         32.0    N   \n",
       "\n",
       "    verified_purchase  \n",
       "41                  Y  \n",
       "145                 Y  \n",
       "304                 Y  \n",
       "419                 Y  \n",
       "500                 Y  "
      ]
     },
     "execution_count": 19,
     "metadata": {},
     "output_type": "execute_result"
    }
   ],
   "source": [
    "# Filter the dataframe to retrieve rows that are NOT part of the Vine program\n",
    "not_vines_df = helpful_votes_gt_50_df.loc[helpful_votes_gt_50_df[\"vine\"] == \"N\"]\n",
    "not_vines_df.head()"
   ]
  },
  {
   "cell_type": "code",
   "execution_count": 20,
   "id": "8c9e66b2",
   "metadata": {},
   "outputs": [
    {
     "data": {
      "text/plain": [
       "review_id            49673\n",
       "star_rating          49673\n",
       "helpful_votes        49673\n",
       "total_votes          49673\n",
       "vine                 49673\n",
       "verified_purchase    49673\n",
       "dtype: int64"
      ]
     },
     "execution_count": 20,
     "metadata": {},
     "output_type": "execute_result"
    }
   ],
   "source": [
    "# See how many entries there are after filtering\n",
    "not_vines_df.count()"
   ]
  },
  {
   "cell_type": "code",
   "execution_count": 41,
   "id": "17054727",
   "metadata": {},
   "outputs": [],
   "source": [
    "# Determine the total number of reviews, the number of 5-star reviews,\n",
    "# and the percentage of 5-star reviews for the two types of review (paid vs unpaid)\n",
    "total_paid = vines_df[\"total_votes\"].count()\n",
    "five_star_paid = vines_df[\"total_votes\"].loc[vines_df[\"star_rating\"]==5].count()\n",
    "pct_five_star_paid = round(five_star_paid / total_paid * 100, 1)\n",
    "\n",
    "total_unpaid = not_vines_df[\"total_votes\"].count()\n",
    "five_star_unpaid = not_vines_df[\"total_votes\"].loc[not_vines_df[\"star_rating\"]==5].count()\n",
    "pct_five_star_unpaid = round(five_star_unpaid / total_unpaid * 100, 1)"
   ]
  },
  {
   "cell_type": "code",
   "execution_count": 54,
   "id": "e8795a5b",
   "metadata": {},
   "outputs": [
    {
     "name": "stdout",
     "output_type": "stream",
     "text": [
      "Vine (paid) users accounted for 1,080 reviews, of which 42.0% (454) were 5 stars.\n",
      "Non-Vine (unpaid) users accounted for 49,673 reviews, of which 46.4% (23,043) were 5 stars.\n"
     ]
    }
   ],
   "source": [
    "# Print out the results\n",
    "\n",
    "print(f\"Vine (paid) users accounted for {total_paid:,} reviews, of which {pct_five_star_paid}% \\\n",
    "({five_star_paid:,}) were 5 stars.\")\n",
    "print(f\"Non-Vine (unpaid) users accounted for {total_unpaid:,} reviews, of which \\\n",
    "{pct_five_star_unpaid}% ({five_star_unpaid:,}) were 5 stars.\")"
   ]
  }
 ],
 "metadata": {
  "kernelspec": {
   "display_name": "Python 3 (ipykernel)",
   "language": "python",
   "name": "python3"
  },
  "language_info": {
   "codemirror_mode": {
    "name": "ipython",
    "version": 3
   },
   "file_extension": ".py",
   "mimetype": "text/x-python",
   "name": "python",
   "nbconvert_exporter": "python",
   "pygments_lexer": "ipython3",
   "version": "3.9.13"
  }
 },
 "nbformat": 4,
 "nbformat_minor": 5
}
